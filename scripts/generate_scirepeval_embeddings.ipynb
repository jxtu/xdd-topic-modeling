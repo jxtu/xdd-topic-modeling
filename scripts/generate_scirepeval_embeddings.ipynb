{
 "cells": [
  {
   "cell_type": "code",
   "execution_count": 2,
   "id": "156a8bb2-075a-4ca1-9cfb-3d1195cf1815",
   "metadata": {
    "tags": []
   },
   "outputs": [],
   "source": [
    "from evaluation.encoders import Model"
   ]
  },
  {
   "cell_type": "code",
   "execution_count": 4,
   "id": "9805eb64-e8c9-46ad-8a82-46b8ca7d973c",
   "metadata": {
    "tags": []
   },
   "outputs": [],
   "source": [
    "model = Model(variant=\"default\", base_checkpoint=\"allenai/scirepeval_ctrl\", use_ctrl_codes=True)\n",
    "model.task_id = \"[PRX]\""
   ]
  },
  {
   "cell_type": "code",
   "execution_count": 6,
   "id": "ad9220d8-c276-47f5-ae7c-aef705dfb7a5",
   "metadata": {
    "tags": []
   },
   "outputs": [],
   "source": [
    "import json\n",
    "\n",
    "def xdd_title_abs_txt2json(in_file, out_file):\n",
    "    in_f = open(in_file, \"r\", encoding=\"utf-8\")\n",
    "    with open(out_file, \"w\", encoding=\"utf-8\") as out_f:\n",
    "        for line in in_f:\n",
    "            doc_id, title_abs = line[:-1].split(\"\\t\")\n",
    "            out_f.write(json.dumps({\"doc_id\": doc_id, \"title_abs\": title_abs}))            \n",
    "    in_f.close()\n",
    "    \n",
    "def xdd_content_txt2json(in_file, out_file):\n",
    "    in_f = open(in_file, \"r\", encoding=\"utf-8\")\n",
    "    with open(out_file, \"w\", encoding=\"utf-8\") as out_f:\n",
    "        for line in in_f:\n",
    "            doc_id, content = line[:-1].split(\"\\t\")\n",
    "            out_f.write(json.dumps({\"doc_id\": doc_id, \"content\": content}))            \n",
    "    in_f.close()"
   ]
  },
  {
   "cell_type": "code",
   "execution_count": 7,
   "id": "eaded621-72cc-4c20-b271-dfa9b69d1b60",
   "metadata": {
    "tags": []
   },
   "outputs": [],
   "source": [
    "topic_prefix = \"content_geoarchive\""
   ]
  },
  {
   "cell_type": "code",
   "execution_count": null,
   "id": "2feb15bc-17f4-4b0c-9888-0dd21a272956",
   "metadata": {},
   "outputs": [],
   "source": [
    "xdd_txt2json(f\"xdd_data/{topic_prefix}.txt\", f\"xdd_data/{topic_prefix}.json\")"
   ]
  },
  {
   "cell_type": "code",
   "execution_count": 8,
   "id": "2a45da08-cd56-4674-b462-eda7dddeefb3",
   "metadata": {
    "tags": []
   },
   "outputs": [],
   "source": [
    "from evaluation.eval_datasets import SimpleDataset  \n",
    "from evaluation.evaluator import Evaluator"
   ]
  },
  {
   "cell_type": "code",
   "execution_count": null,
   "id": "ba61e1de-ac13-4ca8-a7db-e68fe9807891",
   "metadata": {},
   "outputs": [],
   "source": [
    "dataset = f\"xdd_data/{topic_prefix}.json\""
   ]
  },
  {
   "cell_type": "code",
   "execution_count": null,
   "id": "1e61acfb-0855-4637-8321-0501a29fc5a1",
   "metadata": {},
   "outputs": [],
   "source": [
    "evaluator = Evaluator(topic_prefix, dataset, SimpleDataset, model, batch_size=8, fields=[\"content\"], key=\"doc_id\")"
   ]
  },
  {
   "cell_type": "code",
   "execution_count": null,
   "id": "a6b91d7c-22e5-4f6c-93f6-7152f05ff273",
   "metadata": {},
   "outputs": [],
   "source": [
    "embeddings = evaluator.generate_embeddings(save_path=f\"xdd_data/{topic_prefix}_embeddings.json\")"
   ]
  }
 ],
 "metadata": {
  "kernelspec": {
   "display_name": "Python 3 (ipykernel)",
   "language": "python",
   "name": "python3"
  },
  "language_info": {
   "codemirror_mode": {
    "name": "ipython",
    "version": 3
   },
   "file_extension": ".py",
   "mimetype": "text/x-python",
   "name": "python",
   "nbconvert_exporter": "python",
   "pygments_lexer": "ipython3",
   "version": "3.8.16"
  }
 },
 "nbformat": 4,
 "nbformat_minor": 5
}
